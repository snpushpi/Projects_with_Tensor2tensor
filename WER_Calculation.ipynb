{
  "nbformat": 4,
  "nbformat_minor": 0,
  "metadata": {
    "colab": {
      "name": "WER_Calculation.ipynb",
      "provenance": [],
      "authorship_tag": "ABX9TyPNa4jIoVZtNLYDyt8hL7mP"
    },
    "kernelspec": {
      "name": "python3",
      "display_name": "Python 3"
    }
  },
  "cells": [
    {
      "cell_type": "code",
      "metadata": {
        "id": "4zHX-JA3LB42",
        "colab_type": "code",
        "colab": {}
      },
      "source": [
        "main_text = [\"The secret is how to die Since the beginning of time the secret has always been how to die The thirty four year old initiate gazed at the human skull cradled in his palms The skull was hollow like a bowl filled with bloodred wine\",\n",
        "\"Lets just say I have an instinct It would be safer stored outside the brotherhood and please dont let the size of package fool you If what my father told me is correct then it contains something of substantial power\",\n",
        "\"The wait is over the lost symbol is here thrilling and entertaining In this stunning follow up to the global phenomenon the Da vinci code Dan Brown demonstrates once again why he is the world's most popular thriller writer\",\n",
        "\"Peter Solomon started in disbelief at the grid of symbols before him The mesonic pyramid had kept its secret for generations Now suddenly it was being unveiled and he felt a cold sense of \",\n",
        "\"Beyond ideas of wrong doings and right doings there is a field I will meet you there \",\n",
        "\"The most beautiful things in the world cant be seen or heard they must be felt with heart\",\n",
        "\"Catherine had learnt this from her brother now as her thoughts turned back to him she felt a deepening concernShe walked to the labs research library and peered in empty\",\n",
        "\"From the problems discussed in the previous two sections we see that ordinary generating functions are applicable in distribution problems or arrangement problems\"]"
      ],
      "execution_count": null,
      "outputs": []
    },
    {
      "cell_type": "code",
      "metadata": {
        "id": "VIyg68ELbltH",
        "colab_type": "code",
        "colab": {}
      },
      "source": [
        ""
      ],
      "execution_count": null,
      "outputs": []
    },
    {
      "cell_type": "markdown",
      "metadata": {
        "id": "x8YcUT-IOoxS",
        "colab_type": "text"
      },
      "source": [
        "Learning rate =0.15, batch_size = 16, librispeech clean ds"
      ]
    },
    {
      "cell_type": "code",
      "metadata": {
        "id": "QEmetYP3ONlz",
        "colab_type": "code",
        "colab": {}
      },
      "source": [
        "hyp1_text= [\"THE SECRET IS HOW TO DIE FELT THE BEGGING OF TIME THE SECRET HAS ALL HAS BEEN HOW TOO DIE THE THIRTY FREE YOUR OLD INITIATE GAZED UP AND THE HUMANS CALL CRADELLED IN HIS PUNCE THE SCREEN\",\n",
        "\"LET'S JUST SAY I HAVE AN INSTINCT IT WOULDN'T BE SAFER STORED OUTSIDE THE RATHER HOOD AND PLEASE DON'T LING THE SIDES OF THE PECKISH FOLLOW YOU IF WANT MY FATHER TOLD ME IS CURRENT THEN IN CONTAIN SOUNDS\",\n",
        "\"THE WEIGHT IS OVER THE LOSS OF THEM GO IS HERE THRILLING AND ENTERTAINING IN THIS TIME FOLLOWED UP TO THE GLOBE OF PHINAMENON THE DULL VINCEY COAT DUNBROWN DEMONSTRATES ONCE AGAIN WHY HE'S A WELL\",\n",
        "\"THE DURST SOLOMON WAS STARTED IN DISBELIEF AT THE GREAT OF SIMPLES BEFORE HIM THE AMAZONING PYRAMID HAD KEPT OBSEQUATE FOR GENERATIONS NOW SIDELINE IT WAS BEING ENVEILED AND HE FELT OUT\",\n",
        "\"BEYOND IDEAS OF WRONG TO EASE AND WRITE TWEEDS THERE IS A FIELD I WILL MEAN TO THERE AH\",\n",
        "\"THE MOST BEAUTIFUL THINGS IN THE WORLD CAN BE SEEN OR HARDLE THE MAST WE FELT WITH HEART OH\",\n",
        "\"GAZERIE HAD LEARNED THIS FROM HER BROTHER PETER AND NOW AS HER THOUGHTS TURNED BACK TO HIM SHE FELT A DEPENDING CONCERT SHE WANTED TO THE LAB'S RESEARCH LABORARY AND PURITAN PURITAN\",\n",
        "\"FRIENDLY PROVIDENCE AS DISCUSSED IN THE PREVIOUS TWO SICTIONS WE SEE THAT ORDINARY GENERATING FUNCTIONS ARE EQUICABLE AIM DISTRIBUTION PROBLEMS OR ARRANGEMENT PROBLEMS IT\"]\n"
      ],
      "execution_count": null,
      "outputs": []
    },
    {
      "cell_type": "code",
      "metadata": {
        "id": "U7WrNB-_QrJv",
        "colab_type": "code",
        "colab": {
          "base_uri": "https://localhost:8080/",
          "height": 279
        },
        "outputId": "10c1d75a-7f0e-4f13-c849-d11d77aafa6b"
      },
      "source": [
        "!pip install jiwer"
      ],
      "execution_count": null,
      "outputs": [
        {
          "output_type": "stream",
          "text": [
            "Collecting jiwer\n",
            "  Downloading https://files.pythonhosted.org/packages/d7/2a/266d3b1e41cb9f4981f386a07a54b49070c3b0b72e21caae4cca2317ae02/jiwer-2.1.0-py3-none-any.whl\n",
            "Requirement already satisfied: numpy in /usr/local/lib/python3.6/dist-packages (from jiwer) (1.18.5)\n",
            "Collecting python-Levenshtein\n",
            "\u001b[?25l  Downloading https://files.pythonhosted.org/packages/42/a9/d1785c85ebf9b7dfacd08938dd028209c34a0ea3b1bcdb895208bd40a67d/python-Levenshtein-0.12.0.tar.gz (48kB)\n",
            "\u001b[K     |████████████████████████████████| 51kB 2.9MB/s \n",
            "\u001b[?25hRequirement already satisfied: setuptools in /usr/local/lib/python3.6/dist-packages (from python-Levenshtein->jiwer) (49.1.0)\n",
            "Building wheels for collected packages: python-Levenshtein\n",
            "  Building wheel for python-Levenshtein (setup.py) ... \u001b[?25l\u001b[?25hdone\n",
            "  Created wheel for python-Levenshtein: filename=python_Levenshtein-0.12.0-cp36-cp36m-linux_x86_64.whl size=144803 sha256=0e80f9439ff47bce68d1aa700a0cd264c2f1ce27f8e366dab29680ee91758dfe\n",
            "  Stored in directory: /root/.cache/pip/wheels/de/c2/93/660fd5f7559049268ad2dc6d81c4e39e9e36518766eaf7e342\n",
            "Successfully built python-Levenshtein\n",
            "Installing collected packages: python-Levenshtein, jiwer\n",
            "Successfully installed jiwer-2.1.0 python-Levenshtein-0.12.0\n"
          ],
          "name": "stdout"
        }
      ]
    },
    {
      "cell_type": "markdown",
      "metadata": {
        "id": "OkE17EG9TYNC",
        "colab_type": "text"
      },
      "source": [
        "Learning Rate = 0.2 ,batch size = 20, librispeech clean"
      ]
    },
    {
      "cell_type": "code",
      "metadata": {
        "id": "JwlluGoVQv5Z",
        "colab_type": "code",
        "colab": {}
      },
      "source": [
        "hyp2_text = [\"THE SECRET IS HOW TO DIE FELT THE BEGGING OF TIME THE SECRET HAS ALL HAS BEEN HOW TOO TIE THE THIRTY THREE YEAR OLD INITIATE GAZED UP AND THE HUMANS CALL CRADELLED IN HIS PUNCE THE SCREEN\",\n",
        "             \"LET'S JUST SAY I HAVE AN INSTINCT IT WOULDN'T BE SAFER STORED OUTSIDE THE RATHER HOOD AND PLEASE DON'T LING THE SIDES OF THE PECKISH FOLLOW YOU IF WON'T MY FATHER TOLD ME IS CURRENT THEN IN CONTAIN SOUNDS\",\n",
        "             \"THE WEIGHT IS OVER THE LOSS OF THEM GO IS HERE THRILLING AND ENTERTAINING IN THIS TIME FOLLOWED UP TO THE GLOBE OF PHINAMENON THE DULL VINCEY COAT DIN BROWN DEMONSTRATES ONCE AGAIN WHY HE'S A WEST\",\n",
        "             \"HE DURST SOLOMON WAS STARTED IN DISBELIEF AT THE GREAT OF SIMPLES BEFORE HIM THE AMAZONING PYRAMID HAD KEPT OBSEQUATE FOR GENERATIONS NOW SIDELINE IT WAS BEING ENVEILED AND HE FELT OUT\",\n",
        "             \"BEYOND IDEAS OF WRONG TO EASE AND WRITE TWEEDS THERE IS A FIELD I WILL MEAN TO THERE AH\",\n",
        "             \"THE MOST BEAUTIFUL THINGS IN THE WORLD CAN BE SEEN OR HARDLE THE MAST WE FELT WITH HEART OH\",\n",
        "             \"GAZERIE HAD LEARNED THIS FROM HER BROTHER PETER AND NOW AS HER THOUGHTS TURNED BACK TO HIM SHE FELT A DEPENDING CONCERT SHE WANTED TO THE LAPSE RESEARCH LIBRARY AND PURITAN PURITAN\",\n",
        "             \"FRIENDLY PROVIDENCE AS DISCUSSED IN THE PREVIOUS TWO SICTIONS WE SEE THAT ORDINARY GENERATING FUNCTIONS ARE EQUICABLE AIM DISTRIBUTION PROBLEMS OR ARRANGEMENT PROBLEMS IT \"]"
      ],
      "execution_count": null,
      "outputs": []
    },
    {
      "cell_type": "markdown",
      "metadata": {
        "id": "SHLy39ZNWkrS",
        "colab_type": "text"
      },
      "source": [
        "Librispeech ds, learning rate=0.2, batch_size =20"
      ]
    },
    {
      "cell_type": "code",
      "metadata": {
        "id": "O9PED56sWvJz",
        "colab_type": "code",
        "colab": {}
      },
      "source": [
        "hyp3_text = [\"THE SECRET IS HOW TO DIE FELT THE BEGGING OF TIME THE SECRET HAS ALL HAS BEEN HOW TOO DIE THE THIRTY THREE YEAR OLD INITIATE GAZED UP AND THE HUMANS CALL CRADELLED IN HIS PUNCE THE SCREEN\",\n",
        "             \"LET'S JUST SAY I HAVE AN INSTINCT IT WOULDN'T BE SAFER STORED OUTSIDE THE RATHER HOOD AND PLEASE DAWN TO LAY THE SIDES OF THE PECKISH FOLLOW YOU IF WANT MY FATHER TOLD ME IS CURRENT THEN IN CONTAINS ON THE SIDES OF THE PECKISH FOLLOW YOU IF WANT MY FATHER TOLD ME IS CURRENT THEN IN CONTAINS ON THE TABLE\",\n",
        "             \"THE WEIGHT IS OVER THE LOSS OF THEM GO IS HERE THRILLING AND ENTERTAINING IN THIS TIME FOLLOWED UP TO THE GLOBE OF PHINAMENON THE DULL VINCEY COAT DIN BROWN DEMONSTRATES ONCE AGAIN WHY HE'S A WEST\",\n",
        "             \"THE DURST SOLOMON WAS STARTED IN DISBELIEF AT THE GREAT OF SIMPLES BEFORE HIM THE AMAZONING PYRAMID HAD KEPT OBSEQUATE FOR GENERATIONS NOW SIDELINE IT WAS BEING ENVEILED AND HE FELT OUT\",\n",
        "             \"BEYOND IDEAS OF WRONG TO EASE AND WRITE TWEEDS THERE IS A FIELD I WILL MEAN TO THERE AH\",\n",
        "             \"THE MOST BEAUTIFUL THINGS IN THE WORLD CAN BE SEEN OR HARDLE THE MAST WE FELT WITH HEART OH\",\n",
        "             \"GAZERIE HAD LEARNED THIS FROM HER BROTHER PETER AND NOW AS HER THOUGHTS TURNED BACK TO HE SHE FELT A DEPENDING CONCERT SHE WANTED TO THE LAB'S RESEARCH LIBRARY AND PURITAN PURITAN\",\n",
        "             \"FRIENDLY PROVIDENCE AS DISCUSSED IN THE PREVIOUS TWO SICTIONS WE SEE THAT ORDINARY GENERATING FUNCTIONS ARE EQUICABLE AIM DISTRIBUTION PROBLEMS OR ARRANGEMENT PROBLEMS IT\"]"
      ],
      "execution_count": null,
      "outputs": []
    },
    {
      "cell_type": "code",
      "metadata": {
        "id": "K3fTCawlbnNc",
        "colab_type": "code",
        "colab": {}
      },
      "source": [
        "import jiwer"
      ],
      "execution_count": null,
      "outputs": []
    },
    {
      "cell_type": "code",
      "metadata": {
        "id": "Jhc5eKqwbp41",
        "colab_type": "code",
        "colab": {
          "base_uri": "https://localhost:8080/",
          "height": 34
        },
        "outputId": "7f0c5c02-715d-4aff-93f1-de343c6acc82"
      },
      "source": [
        "ground_truth = main_text\n",
        "hypothesis = hyp1_text\n",
        "transformation = jiwer.Compose([\n",
        "    jiwer.ToLowerCase(),\n",
        "    jiwer.RemoveMultipleSpaces(),\n",
        "    jiwer.RemoveWhiteSpace(replace_by_space=False),\n",
        "    jiwer.SentencesToListOfWords(word_delimiter=\" \"),\n",
        "    jiwer.RemovePunctuation(), \n",
        "    jiwer.Strip()\n",
        "]) \n",
        "\n",
        "jiwer.wer(\n",
        "    ground_truth, \n",
        "    hypothesis, \n",
        "    truth_transform=transformation, \n",
        "    hypothesis_transform=transformation\n",
        ")"
      ],
      "execution_count": null,
      "outputs": [
        {
          "output_type": "execute_result",
          "data": {
            "text/plain": [
              "1.125"
            ]
          },
          "metadata": {
            "tags": []
          },
          "execution_count": 18
        }
      ]
    },
    {
      "cell_type": "code",
      "metadata": {
        "id": "y2es8NxrcEbX",
        "colab_type": "code",
        "colab": {
          "base_uri": "https://localhost:8080/",
          "height": 34
        },
        "outputId": "f315821b-8911-4695-d5b1-73b056d28cae"
      },
      "source": [
        "ground_truth = main_text\n",
        "hypothesis = hyp2_text\n",
        "transformation = jiwer.Compose([\n",
        "    jiwer.ToLowerCase(),\n",
        "    jiwer.RemoveMultipleSpaces(),\n",
        "    jiwer.RemoveWhiteSpace(replace_by_space=False),\n",
        "    jiwer.SentencesToListOfWords(word_delimiter=\" \"),\n",
        "    jiwer.RemovePunctuation(), \n",
        "    jiwer.Strip()\n",
        "]) \n",
        "\n",
        "jiwer.wer(\n",
        "    ground_truth, \n",
        "    hypothesis, \n",
        "    truth_transform=transformation, \n",
        "    hypothesis_transform=transformation\n",
        ")"
      ],
      "execution_count": null,
      "outputs": [
        {
          "output_type": "execute_result",
          "data": {
            "text/plain": [
              "1.0"
            ]
          },
          "metadata": {
            "tags": []
          },
          "execution_count": 17
        }
      ]
    },
    {
      "cell_type": "code",
      "metadata": {
        "id": "tLtQ-57ccNxS",
        "colab_type": "code",
        "colab": {
          "base_uri": "https://localhost:8080/",
          "height": 34
        },
        "outputId": "092c9465-2b72-4f31-d141-3c55bff91df3"
      },
      "source": [
        "ground_truth = main_text\n",
        "hypothesis = hyp3_text\n",
        "transformation = jiwer.Compose([\n",
        "    jiwer.ToLowerCase(),\n",
        "    jiwer.RemoveMultipleSpaces(),\n",
        "    jiwer.RemoveWhiteSpace(replace_by_space=False),\n",
        "    jiwer.SentencesToListOfWords(word_delimiter=\" \"),\n",
        "    jiwer.RemovePunctuation(), \n",
        "    jiwer.Strip()\n",
        "]) \n",
        "\n",
        "jiwer.wer(\n",
        "    ground_truth, \n",
        "    hypothesis, \n",
        "    truth_transform=transformation, \n",
        "    hypothesis_transform=transformation\n",
        ")"
      ],
      "execution_count": null,
      "outputs": [
        {
          "output_type": "execute_result",
          "data": {
            "text/plain": [
              "1.0"
            ]
          },
          "metadata": {
            "tags": []
          },
          "execution_count": 16
        }
      ]
    },
    {
      "cell_type": "code",
      "metadata": {
        "id": "ZN9mf0nTf-xd",
        "colab_type": "code",
        "colab": {}
      },
      "source": [
        "google_stt_text = [\n",
        "                   \"The secret is how to die since the beginning of time the secret as old as B how to tie the thirty four year-old call trails in his pants. This call was hello like a bowl filled with blood red wine.\",\n",
        "                   \"Let's just say I have an instinct. It would be safer storage outside the Brotherhood and please don't let the size of the package. My father told me is correct. Then it contains something of substantial power.\",\n",
        "                   \"The wait is Over The Lost Symbol is here Sterling and entertaining and this time forgot to the global phenomenon The Da Vinci Code Dan Brown demonstrates. Once again, why he's the world's most popular Thriller writer.\",\n",
        "                   \"Peter Solomon started in disbelief at the grade of symbols before him. The Masonic pyramid had kept its sick rate for Generations now, so don't lie. It was being unveiled and he sells a cold sense of \",\n",
        "                   \"Beyond ideas of wrongdoing and rightdoing there is a field I will meet you there. \",\n",
        "                   \"The most beautiful things in the world can be seen or heart damask refills with heart. \",\n",
        "                   \"Caspari had learned this from her brother Peter and now as her thoughts turn back to him. She sells a depending concert. She walked to the Lobster research library and Puritan empty\",\n",
        "                   \" From the problems as discussed in the previous two section. We see that ordinary generating functions are applicable and distribution problems or Arrangement problem. \"\n",
        "]"
      ],
      "execution_count": null,
      "outputs": []
    },
    {
      "cell_type": "code",
      "metadata": {
        "id": "Og2a_FwFiY1o",
        "colab_type": "code",
        "colab": {
          "base_uri": "https://localhost:8080/",
          "height": 34
        },
        "outputId": "22a241b7-cd65-4661-c92c-ef76b6ea7288"
      },
      "source": [
        "ground_truth = main_text\n",
        "hypothesis = google_stt_text\n",
        "transformation = jiwer.Compose([\n",
        "    jiwer.ToLowerCase(),\n",
        "    jiwer.RemoveMultipleSpaces(),\n",
        "    jiwer.SentencesToListOfWords(word_delimiter=\" \"),\n",
        "    jiwer.RemovePunctuation(), \n",
        "    jiwer.Strip()\n",
        "]) \n",
        "\n",
        "jiwer.wer(\n",
        "    ground_truth, \n",
        "    hypothesis, \n",
        "    truth_transform=transformation, \n",
        "    hypothesis_transform=transformation\n",
        ")"
      ],
      "execution_count": null,
      "outputs": [
        {
          "output_type": "execute_result",
          "data": {
            "text/plain": [
              "0.28225806451612906"
            ]
          },
          "metadata": {
            "tags": []
          },
          "execution_count": 35
        }
      ]
    },
    {
      "cell_type": "code",
      "metadata": {
        "id": "LY0h1aoMkA98",
        "colab_type": "code",
        "colab": {
          "base_uri": "https://localhost:8080/",
          "height": 34
        },
        "outputId": "34ca6975-a241-47e3-8793-4ed35be5902b"
      },
      "source": [
        "ground_truth = main_text\n",
        "hypothesis = main_text\n",
        "transformation = jiwer.Compose([\n",
        "    jiwer.ToLowerCase(),\n",
        "    jiwer.RemoveMultipleSpaces(),\n",
        "    jiwer.RemoveWhiteSpace(replace_by_space=False),\n",
        "    jiwer.SentencesToListOfWords(word_delimiter=\" \"),\n",
        "    jiwer.RemovePunctuation(), \n",
        "    jiwer.Strip()\n",
        "]) \n",
        "\n",
        "jiwer.wer(\n",
        "    ground_truth, \n",
        "    hypothesis, \n",
        "    truth_transform=transformation, \n",
        "    hypothesis_transform=transformation\n",
        ")"
      ],
      "execution_count": null,
      "outputs": [
        {
          "output_type": "execute_result",
          "data": {
            "text/plain": [
              "0.0"
            ]
          },
          "metadata": {
            "tags": []
          },
          "execution_count": 21
        }
      ]
    }
  ]
}